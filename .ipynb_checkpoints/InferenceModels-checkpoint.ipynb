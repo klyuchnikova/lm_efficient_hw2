{
 "cells": [
  {
   "cell_type": "code",
   "execution_count": 1,
   "id": "c0ea0d4b",
   "metadata": {},
   "outputs": [],
   "source": [
    "import numpy as np\n",
    "import tritonclient.http as httpclient\n",
    "from tritonclient.utils import triton_to_np_dtype\n",
    "from transformers import AutoTokenizer\n",
    "import json"
   ]
  },
  {
   "cell_type": "code",
   "execution_count": 29,
   "id": "b922b7d0",
   "metadata": {},
   "outputs": [],
   "source": [
    "from transformers import AutoTokenizer\n",
    "\n",
    "client = httpclient.InferenceServerClient(url=\"localhost:8000\")\n",
    "tokenizer = AutoTokenizer.from_pretrained(\"s-nlp/russian_toxicity_classifier\")"
   ]
  },
  {
   "cell_type": "code",
   "execution_count": 30,
   "id": "b1d6267b",
   "metadata": {},
   "outputs": [
    {
     "data": {
      "text/plain": [
       "1740774900.736378"
      ]
     },
     "execution_count": 30,
     "metadata": {},
     "output_type": "execute_result"
    }
   ],
   "source": [
    "import time\n",
    "\n",
    "time.time()"
   ]
  },
  {
   "cell_type": "code",
   "execution_count": 34,
   "id": "1cb1d9af",
   "metadata": {},
   "outputs": [],
   "source": [
    "import time\n",
    "\n",
    "def preprocess_text(text):\n",
    "    encoded_input = tokenizer(\n",
    "        text,\n",
    "        padding=\"max_length\",\n",
    "        truncation=True,\n",
    "        max_length=128,\n",
    "        return_tensors=\"np\",\n",
    "    )\n",
    "\n",
    "    input_ids = encoded_input[\"input_ids\"]\n",
    "    attention_mask = encoded_input[\"attention_mask\"]\n",
    "\n",
    "    return {\"input_ids\": input_ids.astype(np.int64), \"attention_mask\": attention_mask.astype(np.int64)}\n",
    "\n",
    "def process_inference_output(all_logits, threshold=0.5):\n",
    "    probabilities = np.exp(all_logits[:, 1]) / np.sum(np.exp(all_logits), axis=1)\n",
    "    predicted_class = probabilities > threshold\n",
    "    return predicted_class\n",
    "\n",
    "def inference_examples(texsts, model_name):\n",
    "    infer_time = 0\n",
    "    for text in texts:\n",
    "        print(f\"Text: {text}\")\n",
    "        inputs_np = preprocess_text(text)\n",
    "\n",
    "        inputs = []\n",
    "        for name, data in inputs_np.items():\n",
    "            inputs.append(httpclient.InferInput(name, data.shape, datatype=\"INT64\"))\n",
    "            inputs[-1].set_data_from_numpy(data, binary_data=True)\n",
    "\n",
    "        outputs = [httpclient.InferRequestedOutput(\"output\", binary_data=True)]\n",
    "        try:\n",
    "            start_time = time.time()\n",
    "            results = client.infer(model_name=model_name, inputs=inputs, outputs=outputs)\n",
    "            infer_time += time.time() - start_time\n",
    "            inference_output = results.as_numpy(\"output\")\n",
    "            predicted_class = process_inference_output(inference_output)\n",
    "            print(f\"Predicted Class: {predicted_class}\")\n",
    "\n",
    "        except Exception as e:\n",
    "            print(f\"Inference failed: {e}\")\n",
    "    print(f\"Inference time: {infer_time}\")"
   ]
  },
  {
   "cell_type": "code",
   "execution_count": 39,
   "id": "01eed3b7",
   "metadata": {},
   "outputs": [],
   "source": [
    "texts = [\n",
    "    \"Британцы любят чай. Я люблю чай. Я британец?\",  # Non-toxic\n",
    "    \"А ну иди сюда ты говно собачье щаз я тебе выебу все что у тебя осталось.\",  # Toxic\n",
    "    \"Британцы любят чай...\",\n",
    "]"
   ]
  },
  {
   "cell_type": "code",
   "execution_count": 40,
   "id": "227c3d99",
   "metadata": {},
   "outputs": [
    {
     "name": "stdout",
     "output_type": "stream",
     "text": [
      "Text: Британцы любят чай. Я люблю чай. Я британец?\n",
      "Predicted Class: [ True]\n",
      "Text: А ну иди сюда ты говно собачье щаз я тебе выебу все что у тебя осталось.\n",
      "Predicted Class: [ True]\n",
      "Text: Британцы любят чай...\n",
      "Predicted Class: [False]\n",
      "Inference time: 0.45957469940185547\n",
      "CPU times: total: 15.6 ms\n",
      "Wall time: 464 ms\n"
     ]
    }
   ],
   "source": [
    "%%time\n",
    "inference_examples(texts, \"onnx_fp32\")"
   ]
  },
  {
   "cell_type": "code",
   "execution_count": 41,
   "id": "a1d92837",
   "metadata": {},
   "outputs": [
    {
     "name": "stderr",
     "output_type": "stream",
     "text": [
      "D:\\E\\Downloads\\Anaconda\\Lib\\site-packages\\pandas\\core\\arrays\\masked.py:60: UserWarning: Pandas requires version '1.3.6' or newer of 'bottleneck' (version '1.3.5' currently installed).\n",
      "  from pandas.core import (\n"
     ]
    }
   ],
   "source": [
    "import pandas as pd\n",
    "import numpy as np\n",
    "from sklearn.metrics import roc_auc_score, precision_recall_curve, roc_curve, auc, precision_score\n",
    "import matplotlib.pyplot as plt\n",
    "from tqdm import tqdm\n",
    "\n",
    "splits = {'train': 'train.jsonl', 'test': 'test.jsonl'}\n",
    "df_test = pd.read_json(\"hf://datasets/AlexSham/Toxic_Russian_Comments/\" + splits[\"test\"], lines=True)"
   ]
  },
  {
   "cell_type": "code",
   "execution_count": 42,
   "id": "c061b978",
   "metadata": {},
   "outputs": [
    {
     "data": {
      "text/html": [
       "<div>\n",
       "<style scoped>\n",
       "    .dataframe tbody tr th:only-of-type {\n",
       "        vertical-align: middle;\n",
       "    }\n",
       "\n",
       "    .dataframe tbody tr th {\n",
       "        vertical-align: top;\n",
       "    }\n",
       "\n",
       "    .dataframe thead th {\n",
       "        text-align: right;\n",
       "    }\n",
       "</style>\n",
       "<table border=\"1\" class=\"dataframe\">\n",
       "  <thead>\n",
       "    <tr style=\"text-align: right;\">\n",
       "      <th></th>\n",
       "      <th>text</th>\n",
       "      <th>label</th>\n",
       "    </tr>\n",
       "  </thead>\n",
       "  <tbody>\n",
       "    <tr>\n",
       "      <th>0</th>\n",
       "      <td>хорошо пошло!</td>\n",
       "      <td>0</td>\n",
       "    </tr>\n",
       "    <tr>\n",
       "      <th>1</th>\n",
       "      <td>посмотрела, как будто дома побывала. как река ...</td>\n",
       "      <td>0</td>\n",
       "    </tr>\n",
       "    <tr>\n",
       "      <th>2</th>\n",
       "      <td>отдам котят 1,5 месяца в добрые руки.</td>\n",
       "      <td>0</td>\n",
       "    </tr>\n",
       "    <tr>\n",
       "      <th>3</th>\n",
       "      <td>0,5литровая баночка 200р стоит в таганроге. та...</td>\n",
       "      <td>0</td>\n",
       "    </tr>\n",
       "    <tr>\n",
       "      <th>4</th>\n",
       "      <td>речь шла о радужных зонтиках над верандой.</td>\n",
       "      <td>0</td>\n",
       "    </tr>\n",
       "  </tbody>\n",
       "</table>\n",
       "</div>"
      ],
      "text/plain": [
       "                                                text  label\n",
       "0                                      хорошо пошло!      0\n",
       "1  посмотрела, как будто дома побывала. как река ...      0\n",
       "2              отдам котят 1,5 месяца в добрые руки.      0\n",
       "3  0,5литровая баночка 200р стоит в таганроге. та...      0\n",
       "4         речь шла о радужных зонтиках над верандой.      0"
      ]
     },
     "execution_count": 42,
     "metadata": {},
     "output_type": "execute_result"
    }
   ],
   "source": [
    "df_test.head()"
   ]
  },
  {
   "cell_type": "code",
   "execution_count": 43,
   "id": "d38a482a",
   "metadata": {},
   "outputs": [],
   "source": [
    "def inference_test(df, model_name):\n",
    "    infer_time = 0\n",
    "    predicted_labels = []\n",
    "    for i in range(len(df_test)):\n",
    "        text = df_test.iloc[i].text\n",
    "        label = df_test.iloc[i].label\n",
    "        inputs_np = preprocess_text(text)\n",
    "\n",
    "        inputs = []\n",
    "        for name, data in inputs_np.items():\n",
    "            inputs.append(httpclient.InferInput(name, data.shape, datatype=\"INT64\"))\n",
    "            inputs[-1].set_data_from_numpy(data, binary_data=True)\n",
    "\n",
    "        outputs = [httpclient.InferRequestedOutput(\"output\", binary_data=True)]\n",
    "        try:\n",
    "            start_time = time.time()\n",
    "            results = client.infer(model_name=model_name, inputs=inputs, outputs=outputs)\n",
    "            infer_time += time.time() - start_time\n",
    "            inference_output = results.as_numpy(\"output\")\n",
    "            predicted_class = process_inference_output(inference_output)\n",
    "            predicted_labels.append(int(predicted_class[0]))\n",
    "        except Exception as e:\n",
    "            print(f\"Inference failed: {e}\")\n",
    "    print(f\"Inference time: {infer_time}\")\n",
    "    df[\"predicted\"] = predicted_labels\n",
    "    return df"
   ]
  },
  {
   "cell_type": "code",
   "execution_count": null,
   "id": "de190cdb",
   "metadata": {},
   "outputs": [],
   "source": [
    "sample = df_test.sample(30)\n",
    "inference_test(sample, \"onnx_fp32\")\n",
    "sample"
   ]
  },
  {
   "cell_type": "code",
   "execution_count": null,
   "id": "30838ba4",
   "metadata": {},
   "outputs": [],
   "source": [
    "sample = df_test.sample(30)\n",
    "inference_test(sample, \"onnx_fp16\")\n",
    "sample"
   ]
  }
 ],
 "metadata": {
  "kernelspec": {
   "display_name": "Python 3 (ipykernel)",
   "language": "python",
   "name": "python3"
  },
  "language_info": {
   "codemirror_mode": {
    "name": "ipython",
    "version": 3
   },
   "file_extension": ".py",
   "mimetype": "text/x-python",
   "name": "python",
   "nbconvert_exporter": "python",
   "pygments_lexer": "ipython3",
   "version": "3.11.5"
  }
 },
 "nbformat": 4,
 "nbformat_minor": 5
}
